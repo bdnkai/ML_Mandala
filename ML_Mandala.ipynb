{
  "nbformat": 4,
  "nbformat_minor": 5,
  "metadata": {
    "noteable-chatgpt": {
      "create_notebook": {
        "openai_conversation_id": "4da391bd-5dd5-5fae-8474-4a53daaa4908",
        "openai_ephemeral_user_id": "e6272ac4-a55b-55dc-926e-56aafcf7fb8d",
        "openai_subdivision1_iso_code": "US-CA"
      }
    }
  },
  "cells": []
}
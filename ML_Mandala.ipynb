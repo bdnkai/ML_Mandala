{
  "nbformat": 4,
  "nbformat_minor": 5,
  "metadata": {
    "noteable-chatgpt": {
      "create_notebook": {
        "openai_conversation_id": "4da391bd-5dd5-5fae-8474-4a53daaa4908",
        "openai_ephemeral_user_id": "e6272ac4-a55b-55dc-926e-56aafcf7fb8d",
        "openai_subdivision1_iso_code": "US-CA"
      }
    },
    "noteable": {
      "last_transaction_id": "e1149d8a-c174-42d1-b9fd-7eb3ba4276de"
    },
    "selected_hardware_size": "small"
  },
  "cells": [
    {
      "id": "ae194d02-ff74-4ba7-b4c8-5cf48fac5815",
      "cell_type": "code",
      "metadata": {
        "jupyter": {
          "outputs_hidden": false,
          "source_hidden": false
        },
        "noteable": {
          "cell_type": "code"
        }
      },
      "execution_count": null,
      "source": "",
      "outputs": []
    },
    {
      "id": "be1bcc25-4029-4b07-bd51-ed9f6cfbc54a",
      "cell_type": "code",
      "metadata": {
        "jupyter": {
          "outputs_hidden": false,
          "source_hidden": false
        },
        "noteable": {
          "cell_type": "code",
          "output_collection_id": "95ae78cc-4867-42db-98d0-001c579a6316"
        },
        "ExecuteTime": {
          "end_time": "2023-05-24T02:46:18.555333+00:00",
          "start_time": "2023-05-24T02:46:17.931154+00:00"
        }
      },
      "execution_count": null,
      "source": "import cv2 as cv\nimport numpy as np\nimport pytesseract\nfrom matplotlib import pyplot as plt\n\nclass HsvFilter:\n    def __init__(self, hMin=None, sMin=None, vMin=None, hMax=None, sMax=None, vMax=None, sAdd=None, sSub=None, vAdd=None, vSub=None):\n        self.hMin = hMin\n        self.sMin = sMin\n        self.vMin = vMin\n        self.hMax = hMax\n        self.sMax = sMax\n        self.vMax = vMax\n        self.sAdd = sAdd\n        self.sSub = sSub\n        self.vAdd = vAdd\n        self.vSub = vSub\n\n# circle filtering\nhsv_filter = HsvFilter()\nhsv_filter.hMin = 0\nhsv_filter.sMin = 58\nhsv_filter.vMin = 0\nhsv_filter.hMax = 115\nhsv_filter.sMax = 255\nhsv_filter.vMax = 255\nhsv_filter.sAdd = 0\nhsv_filter.sSub = 0\nhsv_filter.vAdd = 0\nhsv_filter.vSub = 0\n\n# Load the image\nimg = cv.imread('fullmandala.png')\n\n# Convert the image to HSV\nhsv = cv.cvtColor(img, cv.COLOR_BGR2HSV)\n\n# Define the HSV range for the color\nlower_range = np.array([hsv_filter.hMin, hsv_filter.sMin, hsv_filter.vMin])\nupper_range = np.array([hsv_filter.hMax, hsv_filter.sMax, hsv_filter.vMax])\n\n# Create a mask based on the HSV range\nmask = cv.inRange(hsv, lower_range, upper_range)\n\n# Use the mask to extract the color from the image\nres = cv.bitwise_and(img, img, mask=mask)\n\n# Display the original image and the masked image\nplt.subplot(121),plt.imshow(img),plt.title('Original')\nplt.xticks([]), plt.yticks([])\nplt.subplot(122),plt.imshow(res),plt.title('Masked')\nplt.xticks([]), plt.yticks([])\nplt.show()",
      "outputs": []
    }
  ]
}
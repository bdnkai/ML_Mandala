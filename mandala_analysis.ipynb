{
  "nbformat": 4,
  "nbformat_minor": 5,
  "metadata": {
    "noteable-chatgpt": {
      "create_notebook": {
        "openai_conversation_id": "4da391bd-5dd5-5fae-8474-4a53daaa4908",
        "openai_ephemeral_user_id": "43eeab78-ab86-51dc-bb6a-8ebd06d1ac36",
        "openai_subdivision1_iso_code": "US-CA"
      }
    },
    "noteable": {
      "last_transaction_id": "dd453825-1358-4a58-9e55-9342b03e4c04"
    },
    "selected_hardware_size": "small"
  },
  "cells": [
    {
      "id": "61ddc913-66f9-4c0a-98fe-0bd74d5eb713",
      "cell_type": "code",
      "metadata": {
        "jupyter": {
          "outputs_hidden": false,
          "source_hidden": false
        },
        "noteable": {
          "cell_type": "code",
          "output_collection_id": "37faf340-e108-4985-b7e1-701c2a2b98e6"
        },
        "ExecuteTime": {
          "end_time": "2023-05-24T02:24:40.473689+00:00",
          "start_time": "2023-05-24T02:24:33.548194+00:00"
        }
      },
      "execution_count": null,
      "source": "!pip install opencv-python-headless",
      "outputs": []
    },
    {
      "id": "c7c46a10-c72f-4f86-956f-9bfd862e6446",
      "cell_type": "code",
      "metadata": {
        "jupyter": {
          "outputs_hidden": false,
          "source_hidden": false
        },
        "noteable": {
          "cell_type": "code",
          "output_collection_id": "e658780b-108c-4b24-ba4a-d6993f2f75b2"
        },
        "ExecuteTime": {
          "end_time": "2023-05-24T02:24:33.536888+00:00",
          "start_time": "2023-05-24T02:24:28.699458+00:00"
        }
      },
      "execution_count": null,
      "source": "!pip install pytesseract",
      "outputs": []
    },
    {
      "id": "d19d832f-c217-45df-94db-1ebf24b184a7",
      "cell_type": "code",
      "metadata": {
        "jupyter": {
          "outputs_hidden": false,
          "source_hidden": false
        },
        "noteable": {
          "cell_type": "code",
          "output_collection_id": "17474f96-8df5-456c-87e3-dc10d7ccd486"
        },
        "ExecuteTime": {
          "end_time": "2023-05-24T03:01:13.675227+00:00",
          "start_time": "2023-05-24T03:01:13.504787+00:00"
        }
      },
      "execution_count": null,
      "source": "import cv2 as cv\nimport numpy as np\nimport pandas as pd\nimport pytesseract\n\nclass HsvFilter:\n    def __init__(self, hMin=None, sMin=None, vMin=None, hMax=None, sMax=None, vMax=None, sAdd=None, sSub=None, vAdd=None, vSub=None):\n        self.hMin = hMin\n        self.sMin = sMin\n        self.vMin = vMin\n        self.hMax = hMax\n        self.sMax = sMax\n        self.vMax = vMax\n        self.sAdd = sAdd\n        self.sSub = sSub\n        self.vAdd = vAdd\n        self.vSub = vSub\n        \n        \ndef init_control_gui():\n    cv.namedWindow('HSV Filters')\n    cv.resizeWindow('HSV Filters', 700, 600)\n\n    def nothing(x):\n        pass\n\n    # create trackbars for color change\n    # Hue is from 0-179 for Opencv\n    cv.createTrackbar('HMin', 'HSV Filters', 0, 179, nothing)\n    cv.createTrackbar('SMin', 'HSV Filters', 0, 255, nothing)\n    cv.createTrackbar('VMin', 'HSV Filters', 0, 255, nothing)\n    cv.createTrackbar('HMax', 'HSV Filters', 0, 179, nothing)\n    cv.createTrackbar('SMax', 'HSV Filters', 0, 255, nothing)\n    cv.createTrackbar('VMax', 'HSV Filters', 0, 255, nothing)\n\n    # Set default value for MAX HSV trackbars.\n    cv.setTrackbarPos('HMax', 'HSV Filters', 179)\n    cv.setTrackbarPos('SMax', 'HSV Filters', 255)\n    cv.setTrackbarPos('VMax', 'HSV Filters', 255)\n\n    # Create HSV switch\n    cv.createTrackbar('SAdd', 'HSV Filters', 0, 255, nothing)\n    cv.createTrackbar('SSub', 'HSV Filters', 0, 255, nothing)\n    cv.createTrackbar('VAdd', 'HSV Filters', 0, 255, nothing)\n    cv.createTrackbar('VSub', 'HSV Filters', 0, 255, nothing)\n    \n    # Text Filtering\n    # hsv_filter.hMin = 0\n    # hsv_filter.sMin = 0\n    # hsv_filter.vMin = 0\n    # hsv_filter.hMax = 176\n    # hsv_filter.sMax = 255\n    # hsv_filter.vMax = 255\n    # hsv_filter.sAdd = 255\n    # hsv_filter.sSub = 0\n    # hsv_filter.vAdd = 69\n    # hsv_filter.vSub = 71\n    \n    # Circle Filtering\n    # hsv_filter.hMin = 0\n    # hsv_filter.sMin = 58\n    # hsv_filter.vMin = 0\n    # hsv_filter.hMax = 115\n    # hsv_filter.sMax = 255\n    # hsv_filter.vMax = 255\n    # hsv_filter.sAdd = 0\n    # hsv_filter.sSub = 0\n    # hsv_filter.vAdd = 0\n    # hsv_filter.vSub = 0\n    \n    #test push\n    \n    return hsv_filter\n\n\n\ndef apply_hsv_filter(original_image, hsv_filter=None):\n    # convert image to HSV\n    hsv = cv.cvtColor(original_image, cv.COLOR_BGR2HSV)\n\n    # if we haven't been given a defined filter, use the filter values from the GUI\n    if not hsv_filter:\n        hsv_filter = get_hsv_filter_from_controls()\n\n    # add/subtract saturation and value\n    h, s, v = cv.split(hsv)\n    s = shift_channel(s, hsv_filter.sAdd)\n    s = shift_channel(s, -hsv_filter.sSub)\n    v = shift_channel(v, hsv_filter.vAdd)\n    v = shift_channel(v, -hsv_filter.vSub)\n    hsv = cv.merge([h, s, v])\n\n    # Set minimum and maximum HSV values to display\n    lower = np.array([hsv_filter.hMin, hsv_filter.sMin, hsv_filter.vMin])\n    upper = np.array([hsv_filter.hMax, hsv_filter.sMax, hsv_filter.vMax])\n    # Apply the thresholds\n    mask = cv.inRange(hsv, lower, upper)\n    result = cv.bitwise_and(hsv, hsv, mask=mask)\n\n    # convert back to BGR for imshow() to display it properly\n    img = cv.cvtColor(result, cv.COLOR_HSV2BGR)\n\n    return img\n\n\ndef shift_channel(c, amount):\n    if amount > 0:\n        lim = 255 - amount\n        c[c >= lim] = 255\n        c[c < lim] += amount\n    elif amount < 0:\n        amount = -amount\n        lim = amount\n        c[c <= lim] = 0\n        c[c > lim] -= amount\n    return c\n\n",
      "outputs": []
    },
    {
      "id": "caf8c19c-6f18-4827-8f6c-f55f808e80e6",
      "cell_type": "code",
      "metadata": {
        "jupyter": {
          "outputs_hidden": true,
          "source_hidden": false
        },
        "noteable": {
          "cell_type": "code",
          "output_collection_id": "0f841f7f-ad2e-478c-8ee1-392338735753"
        },
        "ExecuteTime": {
          "end_time": "2023-05-24T03:04:51.525479+00:00",
          "start_time": "2023-05-24T03:04:51.324955+00:00"
        }
      },
      "execution_count": null,
      "source": "# Load the images\nimage_path = './images/'\nright_box = cv.imread(image_path + 'right.png')\nleft_box = cv.imread(image_path + 'left.png')\nmandala = cv.imread(image_path + 'mandala_in_action.png')\n\n# Test to see if image is readable\nprint(f'right box image-array: {right_box} ')\n\nprint(f'left box image-array: {left_box} ')\n\nprint(f'in-action box image: {left_box} ')",
      "outputs": []
    },
    {
      "id": "b49565c1-5280-4ee9-8e06-005460fa7471",
      "cell_type": "code",
      "metadata": {
        "jupyter": {
          "outputs_hidden": false,
          "source_hidden": false
        },
        "noteable": {
          "cell_type": "code"
        }
      },
      "execution_count": null,
      "source": "",
      "outputs": []
    },
    {
      "id": "686129ef-d989-4382-8366-4c3d2c4def15",
      "cell_type": "code",
      "metadata": {
        "jupyter": {
          "outputs_hidden": false,
          "source_hidden": false
        },
        "noteable": {
          "cell_type": "code",
          "output_collection_id": "5fa7172f-ee65-418b-81a3-6f108699272d"
        },
        "ExecuteTime": {
          "end_time": "2023-05-24T03:08:31.912643+00:00",
          "start_time": "2023-05-24T03:08:29.827119+00:00"
        }
      },
      "execution_count": null,
      "source": "# Manually set the HSV filter values\nhsv_filter = HsvFilter()\nhsv_filter.hMin = 0\nhsv_filter.sMin = 58\nhsv_filter.vMin = 0\nhsv_filter.hMax = 115\nhsv_filter.sMax = 255\nhsv_filter.vMax = 255\nhsv_filter.sAdd = 0\nhsv_filter.sSub = 0\nhsv_filter.vAdd = 0\nhsv_filter.vSub = 0\n\n# Apply the HSV filter\nfiltered_right_box = apply_hsv_filter(right_box, hsv_filter)\nfiltered_left_box = apply_hsv_filter(left_box, hsv_filter)\nfiltered_mandala = apply_hsv_filter(mandala, hsv_filter)\n\n# Display the original and filtered images\nplt.figure(figsize=(20, 20))\nplt.subplot(231), plt.imshow(cv.cvtColor(right_box, cv.COLOR_BGR2RGB)), plt.title('Original Right Box')\nplt.subplot(232), plt.imshow(cv.cvtColor(left_box, cv.COLOR_BGR2RGB)), plt.title('Original Left Box')\nplt.subplot(233), plt.imshow(cv.cvtColor(mandala, cv.COLOR_BGR2RGB)), plt.title('Original Mandala')\nplt.subplot(234), plt.imshow(cv.cvtColor(filtered_right_box, cv.COLOR_BGR2RGB)), plt.title('Filtered Right Box')\nplt.subplot(235), plt.imshow(cv.cvtColor(filtered_left_box, cv.COLOR_BGR2RGB)), plt.title('Filtered Left Box')\nplt.subplot(236), plt.imshow(cv.cvtColor(filtered_mandala, cv.COLOR_BGR2RGB)), plt.title('Filtered Mandala')\nplt.show()",
      "outputs": []
    }
  ]
}
{
  "nbformat": 4,
  "nbformat_minor": 5,
  "metadata": {
    "noteable-chatgpt": {
      "create_notebook": {
        "openai_conversation_id": "4da391bd-5dd5-5fae-8474-4a53daaa4908",
        "openai_ephemeral_user_id": "43eeab78-ab86-51dc-bb6a-8ebd06d1ac36",
        "openai_subdivision1_iso_code": "US-CA"
      }
    },
    "noteable": {
      "last_transaction_id": "b9f9b582-ffe9-4f3a-a79b-568659df00c7"
    },
    "selected_hardware_size": "small"
  },
  "cells": [
    {
      "id": "61ddc913-66f9-4c0a-98fe-0bd74d5eb713",
      "cell_type": "code",
      "metadata": {
        "jupyter": {
          "outputs_hidden": false,
          "source_hidden": false
        },
        "noteable": {
          "cell_type": "code",
          "output_collection_id": "37faf340-e108-4985-b7e1-701c2a2b98e6"
        },
        "ExecuteTime": {
          "end_time": "2023-05-24T02:24:40.473689+00:00",
          "start_time": "2023-05-24T02:24:33.548194+00:00"
        }
      },
      "execution_count": null,
      "source": "!pip install opencv-python-headless",
      "outputs": []
    },
    {
      "id": "c7c46a10-c72f-4f86-956f-9bfd862e6446",
      "cell_type": "code",
      "metadata": {
        "jupyter": {
          "outputs_hidden": false,
          "source_hidden": false
        },
        "noteable": {
          "cell_type": "code",
          "output_collection_id": "e658780b-108c-4b24-ba4a-d6993f2f75b2"
        },
        "ExecuteTime": {
          "end_time": "2023-05-24T02:24:33.536888+00:00",
          "start_time": "2023-05-24T02:24:28.699458+00:00"
        }
      },
      "execution_count": null,
      "source": "!pip install pytesseract",
      "outputs": []
    },
    {
      "id": "d19d832f-c217-45df-94db-1ebf24b184a7",
      "cell_type": "code",
      "metadata": {
        "jupyter": {
          "outputs_hidden": false,
          "source_hidden": false
        },
        "noteable": {
          "cell_type": "code",
          "output_collection_id": "df2350cf-9cc0-4cfa-8fc0-65d53b513cdc"
        },
        "ExecuteTime": {
          "end_time": "2023-05-23T23:04:45.964514+00:00",
          "start_time": "2023-05-23T23:04:45.788407+00:00"
        }
      },
      "execution_count": null,
      "source": "import cv2 as cv\nimport numpy as np\nimport pandas as pd\nimport pytesseract",
      "outputs": []
    },
    {
      "id": "0c99f05f-9f1b-49b3-b350-4b773a6e0ab8",
      "cell_type": "code",
      "metadata": {
        "jupyter": {
          "outputs_hidden": false,
          "source_hidden": false
        },
        "noteable": {
          "cell_type": "code",
          "output_collection_id": "6d1c0bbd-3a72-4030-9581-ca0b3f581bbb"
        },
        "ExecuteTime": {
          "end_time": "2023-05-23T23:05:14.010314+00:00",
          "start_time": "2023-05-23T23:05:13.850794+00:00"
        }
      },
      "execution_count": null,
      "source": "class HsvFilter:\n    def __init__(self, hMin=None, sMin=None, vMin=None, hMax=None, sMax=None, vMax=None, sAdd=None, sSub=None, vAdd=None, vSub=None):\n        self.hMin = hMin\n        self.sMin = sMin\n        self.vMin = vMin\n        self.hMax = hMax\n        self.sMax = sMax\n        self.vMax = vMax\n        self.sAdd = sAdd\n        self.sSub = sSub\n        self.vAdd = vAdd\n        self.vSub = vSub",
      "outputs": []
    },
    {
      "id": "58c0c8d8-273a-438f-aecc-76562c5b4435",
      "cell_type": "code",
      "metadata": {
        "jupyter": {
          "outputs_hidden": false,
          "source_hidden": false
        },
        "noteable": {
          "cell_type": "code",
          "output_collection_id": "b80c588e-e401-4e07-8e70-d9fba3290812"
        },
        "ExecuteTime": {
          "end_time": "2023-05-24T00:22:50.961375+00:00",
          "start_time": "2023-05-24T00:22:50.799198+00:00"
        }
      },
      "execution_count": null,
      "source": "def init_control_gui():\n    cv.namedWindow('HSV Filters')\n    cv.resizeWindow('HSV Filters', 700, 600)\n\n    def nothing(x):\n        pass\n\n    # create trackbars for color change\n    # Hue is from 0-179 for Opencv\n    cv.createTrackbar('HMin', 'HSV Filters', 0, 179, nothing)\n    cv.createTrackbar('SMin', 'HSV Filters', 0, 255, nothing)\n    cv.createTrackbar('VMin', 'HSV Filters', 0, 255, nothing)\n    cv.createTrackbar('HMax', 'HSV Filters', 0, 179, nothing)\n    cv.createTrackbar('SMax', 'HSV Filters', 0, 255, nothing)\n    cv.createTrackbar('VMax', 'HSV Filters', 0, 255, nothing)\n\n    # Set default value for MAX HSV trackbars.\n    cv.setTrackbarPos('HMax', 'HSV Filters', 179)\n    cv.setTrackbarPos('SMax', 'HSV Filters', 255)\n    cv.setTrackbarPos('VMax', 'HSV Filters', 255)\n\n    # Create HSV switch\n    cv.createTrackbar('SAdd', 'HSV Filters', 0, 255, nothing)\n    cv.createTrackbar('SSub', 'HSV Filters', 0, 255, nothing)\n    cv.createTrackbar('VAdd', 'HSV Filters', 0, 255, nothing)\n    cv.createTrackbar('VSub', 'HSV Filters', 0, 255, nothing)\n    \n    # Text Filtering\n    # hsv_filter.hMin = 0\n    # hsv_filter.sMin = 0\n    # hsv_filter.vMin = 0\n    # hsv_filter.hMax = 176\n    # hsv_filter.sMax = 255\n    # hsv_filter.vMax = 255\n    # hsv_filter.sAdd = 255\n    # hsv_filter.sSub = 0\n    # hsv_filter.vAdd = 69\n    # hsv_filter.vSub = 71\n    \n    # Circle Filtering\n    # hsv_filter.hMin = 0\n    # hsv_filter.sMin = 58\n    # hsv_filter.vMin = 0\n    # hsv_filter.hMax = 115\n    # hsv_filter.sMax = 255\n    # hsv_filter.vMax = 255\n    # hsv_filter.sAdd = 0\n    # hsv_filter.sSub = 0\n    # hsv_filter.vAdd = 0\n    # hsv_filter.vSub = 0\n    \n    #test push\n    \n    return hsv_filter",
      "outputs": []
    },
    {
      "id": "b736c215-0ac9-4407-9ceb-6c6fb7109d9d",
      "cell_type": "code",
      "metadata": {
        "jupyter": {
          "outputs_hidden": false,
          "source_hidden": false
        },
        "noteable": {
          "cell_type": "code",
          "output_collection_id": "dd27144a-38da-45e3-94b1-341cf8c7c0c9"
        },
        "ExecuteTime": {
          "end_time": "2023-05-24T00:22:51.132717+00:00",
          "start_time": "2023-05-24T00:22:50.971351+00:00"
        }
      },
      "execution_count": null,
      "source": "def apply_hsv_filter(original_image, hsv_filter=None):\n    # convert image to HSV\n    hsv = cv.cvtColor(original_image, cv.COLOR_BGR2HSV)\n\n    # if we haven't been given a defined filter, use the filter values from the GUI\n    if not hsv_filter:\n        hsv_filter = get_hsv_filter_from_controls()\n\n    # add/subtract saturation and value\n    h, s, v = cv.split(hsv)\n    s = shift_channel(s, hsv_filter.sAdd)\n    s = shift_channel(s, -hsv_filter.sSub)\n    v = shift_channel(v, hsv_filter.vAdd)\n    v = shift_channel(v, -hsv_filter.vSub)\n    hsv = cv.merge([h, s, v])\n\n    # Set minimum and maximum HSV values to display\n    lower = np.array([hsv_filter.hMin, hsv_filter.sMin, hsv_filter.vMin])\n    upper = np.array([hsv_filter.hMax, hsv_filter.sMax, hsv_filter.vMax])\n    # Apply the thresholds\n    mask = cv.inRange(hsv, lower, upper)\n    result = cv.bitwise_and(hsv, hsv, mask=mask)\n\n    # convert back to BGR for imshow() to display it properly\n    img = cv.cvtColor(result, cv.COLOR_HSV2BGR)\n\n    return img\n\n\ndef shift_channel(c, amount):\n    if amount > 0:\n        lim = 255 - amount\n        c[c >= lim] = 255\n        c[c < lim] += amount\n    elif amount < 0:\n        amount = -amount\n        lim = amount\n        c[c <= lim] = 0\n        c[c > lim] -= amount\n    return c",
      "outputs": []
    },
    {
      "id": "d3f82c83-e15a-47e4-978c-83045739968c",
      "cell_type": "code",
      "metadata": {
        "jupyter": {
          "outputs_hidden": true,
          "source_hidden": false
        },
        "noteable": {
          "cell_type": "code",
          "output_collection_id": "3eede428-08d2-4f36-97b6-74c1fbaf8f91"
        },
        "ExecuteTime": {
          "end_time": "2023-05-23T23:07:10.920097+00:00",
          "start_time": "2023-05-23T23:07:10.762262+00:00"
        }
      },
      "execution_count": null,
      "source": "# Load the images\nimage_path = '../images/'\nright_box = cv.imread(image_path/'right.png')\nleft_box = cv.imread(image_path/'left.png')\nmandala = cv.imread(image_path/'manda')",
      "outputs": []
    },
    {
      "id": "860c0768-6944-4983-9fd2-c37983c61b47",
      "cell_type": "code",
      "metadata": {
        "jupyter": {
          "outputs_hidden": false,
          "source_hidden": false
        },
        "noteable": {
          "cell_type": "code",
          "output_collection_id": "56964a29-799d-4b8c-873c-a6d23e370ddc"
        },
        "ExecuteTime": {
          "end_time": "2023-05-24T02:49:32.871733+00:00",
          "start_time": "2023-05-24T02:49:30.730362+00:00"
        }
      },
      "execution_count": null,
      "source": "import cv2 as cv\nimport numpy as np\nimport pytesseract\nfrom matplotlib import pyplot as plt\n\nclass HsvFilter:\n    def __init__(self, hMin=None, sMin=None, vMin=None, hMax=None, sMax=None, vMax=None, sAdd=None, sSub=None, vAdd=None, vSub=None):\n        self.hMin = hMin\n        self.sMin = sMin\n        self.vMin = vMin\n        self.hMax = hMax\n        self.sMax = sMax\n        self.vMax = vMax\n        self.sAdd = sAdd\n        self.sSub = sSub\n        self.vAdd = vAdd\n        self.vSub = vSub\n\n# circle filtering\nhsv_filter = HsvFilter()\nhsv_filter.hMin = 0\nhsv_filter.sMin = 58\nhsv_filter.vMin = 0\nhsv_filter.hMax = 115\nhsv_filter.sMax = 255\nhsv_filter.vMax = 255\nhsv_filter.sAdd = 0\nhsv_filter.sSub = 0\nhsv_filter.vAdd = 0\nhsv_filter.vSub = 0\n\n# Load the image\nimg = cv.imread('fullmandala.png')\n\n# Convert the image to HSV\nhsv = cv.cvtColor(img, cv.COLOR_BGR2HSV)\n\n# Define the HSV range for the color\nlower_range = np.array([hsv_filter.hMin, hsv_filter.sMin, hsv_filter.vMin])\nupper_range = np.array([hsv_filter.hMax, hsv_filter.sMax, hsv_filter.vMax])\n\n# Create a mask based on the HSV range\nmask = cv.inRange(hsv, lower_range, upper_range)\n\n# Use the mask to extract the color from the image\nres = cv.bitwise_and(img, img, mask=mask)\n\n# Display the original image and the masked image\nplt.subplot(121),plt.imshow(img),plt.title('Original')\nplt.xticks([]), plt.yticks([])\nplt.subplot(122),plt.imshow(res),plt.title('Masked')\nplt.xticks([]), plt.yticks([])\nplt.show()",
      "outputs": []
    }
  ]
}